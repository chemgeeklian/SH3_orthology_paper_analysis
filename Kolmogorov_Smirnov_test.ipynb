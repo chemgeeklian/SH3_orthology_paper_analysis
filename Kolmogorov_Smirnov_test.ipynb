{
 "cells": [
  {
   "cell_type": "code",
   "execution_count": 1,
   "metadata": {},
   "outputs": [],
   "source": [
    "from scipy import stats as st\n",
    "import pandas as pd\n",
    "import math\n",
    "import numpy as np"
   ]
  },
  {
   "cell_type": "code",
   "execution_count": 2,
   "metadata": {},
   "outputs": [],
   "source": [
    "des_df = pd.read_excel('data/LibraryDesign.xls')\n",
    "nat_df = pd.read_excel('data/LibraryNatural.xls')"
   ]
  },
  {
   "cell_type": "code",
   "execution_count": 5,
   "metadata": {},
   "outputs": [],
   "source": [
    "globalmmd_df = des_df[des_df.header.str.contains('mmd_')]\n",
    "\n",
    "# sort the values in terms of norm r.e.\n",
    "globalmmd_df = globalmmd_df.sort_values('RE_norm')\n",
    "nat_df = nat_df.sort_values('RE_norm')\n",
    "\n",
    "# drop any empty values in terms of norm r.e.:\n",
    "globalmmd_df = globalmmd_df.dropna(subset = ['RE_norm'])\n",
    "nat_df = nat_df.dropna(subset = ['RE_norm'])"
   ]
  },
  {
   "cell_type": "code",
   "execution_count": 7,
   "metadata": {},
   "outputs": [],
   "source": [
    "num_globalmmd, num_nat = globalmmd_df.shape[0], nat_df.shape[0]"
   ]
  },
  {
   "cell_type": "code",
   "execution_count": 8,
   "metadata": {},
   "outputs": [],
   "source": [
    "\"\"\" The null hypothesis for 2-sample test is rejected for large samples from N and M distributions. In particular,\n",
    "\n",
    "D < c(alpha) sqrt( (n+m)/(n*m) ), where c(alpha) and alpha is found from a lookup table and is choosen depending on \n",
    "the degree of stringency. For example, higher alpha value means easier to not reject the null hypothesis, while lower\n",
    "alpha means it is easier to reject the null hypothesis. Usually, alpha = 0.05 is choosen, so c(alpha) is 1.358 (ref: https://en.wikipedia.org/wiki/Kolmogorov%E2%80%93Smirnov_test).\n",
    "\"\"\"\n",
    "\n",
    "def check_nullH_2smaple(D, alpha, n, m):\n",
    "    \"\"\"\n",
    "    function:\n",
    "    \n",
    "    arg:\n",
    "    \n",
    "    return:\n",
    "    \n",
    "    \"\"\"\n",
    "    c = {0.20:1.073, 0.15:1.138, 0.10:1.224, 0.05:1.358, 0.025:1.48, 0.01:1.628, 0.005:1.731, 0.001:1.949}\n",
    "    c_alpha = c[alpha]\n",
    "    null_threshold = c_alpha * math.sqrt( (n+m)/ (n*m))\n",
    "    if D < null_threshold:\n",
    "        print('Null hypothesis cannot be rejected')\n",
    "        decision = 'Keep'\n",
    "    else:\n",
    "        print('Reject null hypothesis')\n",
    "        decision = 'Reject'\n",
    "    \n",
    "    return decision"
   ]
  },
  {
   "cell_type": "markdown",
   "metadata": {},
   "source": [
    "## KS 2 smaple test for global design and natural homolog sequences:"
   ]
  },
  {
   "cell_type": "code",
   "execution_count": 9,
   "metadata": {},
   "outputs": [
    {
     "name": "stdout",
     "output_type": "stream",
     "text": [
      "Reject null hypothesis\n"
     ]
    }
   ],
   "source": [
    "# norm re scores\n",
    "global_normre = globalmmd_df.RE_norm.values\n",
    "nat_normre = nat_df.RE_norm.values\n",
    "\n",
    "# compute ks test for 2 sample \n",
    "twosample_re = st.ks_2samp(global_normre, nat_normre, 'two-sided')\n",
    "\n",
    "\n",
    "# ks statistics and p value\n",
    "D_2test = twosample_re[0]\n",
    "p_2test = twosample_re[1]\n",
    "\n",
    "# compute if the null hypothesis is rejected or not. \n",
    "alpha = 0.05\n",
    "decision_2smaple = check_nullH_2smaple(D_2test, alpha, len(global_normre), len(nat_normre))"
   ]
  },
  {
   "cell_type": "code",
   "execution_count": 11,
   "metadata": {},
   "outputs": [
    {
     "name": "stdout",
     "output_type": "stream",
     "text": [
      "Since the p value 1.524786301685347e-219 < 0.05, the null hypothesis can be rejected. Therefore, the distribution is not normally distributed.\n"
     ]
    }
   ],
   "source": [
    "# compute 1sample test and compare if the global design sequences are normally distribution \n",
    "onesample_global = st.kstest(global_normre, 'norm')\n",
    "\n",
    "# ks statistics and p value\n",
    "D_1test_globalmmd = onesample_global[0]\n",
    "p_1test_globalmmd = onesample_global[1]\n",
    "\n",
    "print(f'Since the p value {p_1test_globalmmd} < 0.05, the null hypothesis can be rejected. Therefore, the distribution is not normally distributed.')"
   ]
  },
  {
   "cell_type": "code",
   "execution_count": 12,
   "metadata": {},
   "outputs": [
    {
     "name": "stdout",
     "output_type": "stream",
     "text": [
      "Since the p value 0.0 < 0.05, the null hypothesis can be rejected. Therefore, the distribution is not normally distributed.\n"
     ]
    }
   ],
   "source": [
    "# compute 1sample test and compare if the natural sequences are normally distribution \n",
    "onesample_nat = st.kstest(nat_normre, 'norm')\n",
    "\n",
    "# ks statistics and p value\n",
    "D_1test_nat = onesample_nat[0]\n",
    "p_1test_nat = onesample_nat[1]\n",
    "\n",
    "print(f'Since the p value {p_1test_nat} < 0.05, the null hypothesis can be rejected. Therefore, the distribution is not normally distributed.')"
   ]
  },
  {
   "cell_type": "code",
   "execution_count": null,
   "metadata": {},
   "outputs": [],
   "source": []
  }
 ],
 "metadata": {
  "kernelspec": {
   "display_name": "Python 3",
   "language": "python",
   "name": "python3"
  }
 },
 "nbformat": 4,
 "nbformat_minor": 2
}
